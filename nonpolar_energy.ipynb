{
 "cells": [
  {
   "cell_type": "markdown",
   "metadata": {},
   "source": [
    "## Nonpolar solvation free energy with an implicit solvent model\n",
    "\n",
    "This notebook is an implementation of the implicit solvent model described in \"A Simple Electrostatic Model for the Hard-Sphere Solute Component of Nonpolar Solvation\" (Christopher D. Cooper and Jaydeep P. Bardhan) for the nonpolar component of solvation free energy ($\\Delta G_{np}$). This model decomposes $\\Delta G_{np}$ in the free energy spent in the cavity creation ($\\Delta G_{cav}$), plus the energy of the solute-solvent dispersion interaction ($\\Delta G_{disp}$), so that $\\Delta G_{np} = \\Delta G_{cav} + \\Delta G_{disp}$.\n",
    "\n",
    "We use the well known test case from David Mobley et al \"Small Molecule Hydration Free Energies in Explicit Solvent: An Extensive Test of Fixed-Charge Atomistic Simulations\" to test our model. We expect you to download the `prmtop` files from its [Supporting Information](https://pubs.acs.org/doi/10.1021/ct800409d), and point to that folder in the `mobley_test_folder` variable. Also, you'll need to download [`msms`](https://mgl.scripps.edu/people/sanner/html/msms_home.html) to generate meshes. Please point to the `msms` binary in the `msms_bin` variable."
   ]
  },
  {
   "cell_type": "code",
   "execution_count": null,
   "metadata": {},
   "outputs": [],
   "source": [
    "from pathlib import Path\n",
    "\n",
    "mobley_test_folder = str(Path.home())+'/Downloads/prmcrd/'\n",
    "msms_bin = 'msms'"
   ]
  },
  {
   "cell_type": "markdown",
   "metadata": {},
   "source": [
    "### A capacitor model for $\\Delta G_{cav}$\n",
    "\n",
    "The cavity energy model is based in a simple *capacitor* model, that models the solute as two concentric conducting surfaces, one on the dielectric interface (the solvent-excluded surface) and another one around the first solvation shell, one water radius out (on the solvent-accessible surface). Then, $\\Delta G_{cav}$ is the electrostatic energy stored in the capacitor, such that it sustains a potential $\\phi_{static}$ inside the dielectric interface and 0 outside the shell.\n",
    "\n",
    "The electrostatic potential due to a surface charge $\\sigma$ is\n",
    "\n",
    "\\begin{equation}\n",
    "\\phi(\\mathbf{r}) = \\oint_\\Gamma \\frac{\\sigma(\\mathbf{r}')}{4\\pi\\epsilon|\\mathbf{r}-\\mathbf{r}'|}d\\mathbf{r}' = \\frac{1}{\\epsilon}V_\\mathbf{r}(\\sigma)\n",
    "\\end{equation}\n",
    "\n",
    "Then, the surface charge densities on the SES and SAS ($\\sigma_{SES}$ and $\\sigma_{SAS}$) required to have potential $\\phi_{static}$ on the SES and 0 on the SAS is solution to\n",
    "\n",
    "\\begin{equation}\n",
    "\\left[\n",
    "\\begin{matrix}\n",
    "V_{diel} & V_{diel} \\\\\n",
    "V_{shell} & V_{shell} \n",
    "\\end{matrix}\n",
    "\\right]\n",
    "\\left(\n",
    "\\begin{matrix}\n",
    "\\sigma_{diel}\\\\\n",
    "\\sigma_{shell}\n",
    "\\end{matrix}\n",
    "\\right)\n",
    "=\n",
    "\\epsilon_{shell}\n",
    "\\left(\n",
    "\\begin{matrix}\n",
    "\\phi_{static}\\\\\n",
    "0\n",
    "\\end{matrix}\n",
    "\\right)\n",
    "\\end{equation}\n",
    "\n",
    "where $\\epsilon_{shell}$ is the dielectric constant in the first hydration shell. Having the surface charges, the energy stored in the capacitor is\n",
    "\n",
    "\\begin{equation}\n",
    "\\Delta G_{cav} = \\oint \\phi_{static} \\sigma_{shell}(\\mathbf{r}) d\\mathbf{r}\n",
    "\\end{equation}\n",
    "\n",
    "Next, we will use the [`bempp`](https://bempp.com/) library to solve the matrix equation above numerically, and compute $\\Delta G_{cav}$.\n",
    "\n",
    "#### Function definitions\n",
    "\n",
    "First, we import the required libraries and define a function to generate the grid in `bempp` format. This reads in positions and atomic radii and uses [`msms`](https://mgl.scripps.edu/people/sanner/html/msms_home.html) to generate mesh files (`.vert` and `.face`) that are then read by `bempp`."
   ]
  },
  {
   "cell_type": "code",
   "execution_count": null,
   "metadata": {},
   "outputs": [],
   "source": [
    "import numpy\n",
    "import bempp.api\n",
    "import os\n",
    "from bempp.api.operators.boundary import sparse, laplace\n",
    "from scipy.sparse.linalg import gmres\n",
    "\n",
    "def generate_grid(atom_pos, atom_radius, msms_bin, radius_increase=0, p=1.4, d=2):\n",
    "    \n",
    "    xyzr_data = numpy.zeros((N_atom, 4))\n",
    "    xyzr_data[:,:3] = atom_pos[:,:]\n",
    "    xyzr_data[:,-1] = atom_radius[:] + radius_increase\n",
    "\n",
    "    # generate xyzr and call msms\n",
    "    numpy.savetxt('atom_aux.xyzr', xyzr_data)\n",
    "    cmd = msms_bin + ' -if atom_aux.xyzr -of mesh_aux -d %1.3f -p %1.3f -no_header'%(d, p)\n",
    "    os.system(cmd)\n",
    "   \n",
    "    # read meshes into bempp\n",
    "    face = open('mesh_aux.face','r').read()\n",
    "    vert = open('mesh_aux.vert','r').read()\n",
    "\n",
    "    faces = numpy.vstack(numpy.char.split(face.split('\\n')[0:-1]))[:,:3].astype(int) - 1\n",
    "    verts = numpy.vstack(numpy.char.split(vert.split('\\n')[0:-1]))[:,:3].astype(float)\n",
    "    \n",
    "    os.system('rm atom_aux.xyzr mesh_aux.*');\n",
    "\n",
    "    grid = bempp.api.grid_from_element_data(verts.transpose(), faces.transpose())\n",
    "    \n",
    "    N = grid.leaf_view.entity_count(0)\n",
    "    elements = list(grid.leaf_view.entity_iterator(0))\n",
    "    area = numpy.zeros(N)\n",
    "\n",
    "    # remove zero areas\n",
    "    for i in range(N):\n",
    "        area[i] = elements[i].geometry.volume\n",
    "\n",
    "    area_nonzero = numpy.where(area>1e-12)[0]\n",
    "    \n",
    "    faces_nonzero = faces[area_nonzero,:]\n",
    "    \n",
    "    grid = bempp.api.grid_from_element_data(verts.transpose(), faces_nonzero.transpose())\n",
    "    \n",
    "    return grid"
   ]
  },
  {
   "cell_type": "markdown",
   "metadata": {},
   "source": [
    "Next, we define a function to generate the right-hand side of the matrix equation, and another that will assemble the matrix and solve the linear system"
   ]
  },
  {
   "cell_type": "code",
   "execution_count": null,
   "metadata": {},
   "outputs": [],
   "source": [
    "def rhs_fun(x, n, domain_index,result):\n",
    "    global phi_static\n",
    "    result[:] = phi_static\n",
    "\n",
    "def solve_matrix(grid_diel, grid_shell, phi_static, eps_s):\n",
    "\n",
    "    space_diel = bempp.api.function_space(grid_diel, \"DP\", 0)\n",
    "    space_shell = bempp.api.function_space(grid_shell, \"DP\", 0)\n",
    "    \n",
    "    N_diel = grid_diel.leaf_view.entity_count(0)\n",
    "    N_shell = grid_shell.leaf_view.entity_count(0)\n",
    "\n",
    "    elements_d = list(grid_diel.leaf_view.entity_iterator(0))\n",
    "    elements_s = list(grid_shell.leaf_view.entity_iterator(0))\n",
    "\n",
    "    phis_grid_fun = bempp.api.GridFunction(space_diel, fun=rhs_fun)\n",
    "\n",
    "    rhs = numpy.concatenate([eps_s*phis_grid_fun.coefficients, \n",
    "                      numpy.zeros(N_shell)])\n",
    "    \n",
    "\n",
    "    M11   = laplace.single_layer(space_diel, space_diel, space_diel) \n",
    "    M12   = laplace.single_layer(space_shell, space_diel, space_diel) \n",
    "    M21   = laplace.single_layer(space_diel, space_shell, space_shell)\n",
    "    M22   = laplace.single_layer(space_shell, space_shell, space_shell) \n",
    "\n",
    "    blocked = bempp.api.BlockedOperator(2, 2)\n",
    "    blocked[0,0] = M11\n",
    "    blocked[0,1] = M12\n",
    "    blocked[1,0] = M21\n",
    "    blocked[1,1] = M22\n",
    "    op_discrete = blocked.strong_form()\n",
    "    \n",
    "    sigma, info = gmres(op_discrete, rhs, tol=1e-5, maxiter=500, restart = 1000)\n",
    "    \n",
    "    if info>0:\n",
    "        print ('Not converged, %i iterations'%info)\n",
    "    elif info<0:\n",
    "        print ('Solver diverges')\n",
    "    \n",
    "    sigma_d = sigma[:N_diel]\n",
    "    sigma_s = sigma[N_diel:]\n",
    "    \n",
    "    return sigma_d, elements_d"
   ]
  },
  {
   "cell_type": "markdown",
   "metadata": {},
   "source": [
    "Finally, we can generate a function to compute the energy"
   ]
  },
  {
   "cell_type": "code",
   "execution_count": null,
   "metadata": {},
   "outputs": [],
   "source": [
    "def compute_energy_cav(sigma_diel, elements_diel, phi_static):\n",
    "    \n",
    "    qe = 1.60217662e-19\n",
    "    Na = 6.0221409e23\n",
    "    eps_0 = 8.854187817e-12\n",
    "    \n",
    "    N_diel = len(sigma_diel)\n",
    "    area_diel = numpy.zeros(N_diel)\n",
    "    for i in range(N_diel):\n",
    "        area_diel[i] = elements_diel[i].geometry.volume\n",
    "\n",
    "    conv_factor = (1000*eps_0)/(qe**2*Na*1e10*4.184)\n",
    "\n",
    "    energy = 0.5*conv_factor*numpy.sum(area_diel*sigma_diel*phi_static)\n",
    "\n",
    "    return energy"
   ]
  },
  {
   "cell_type": "markdown",
   "metadata": {},
   "source": [
    "#### Running the model\n",
    "\n",
    "##### Mesh generation\n",
    "\n",
    "We'll now generate meshes with `msms` where `mesh_diel` and `mesh_shell` are the  mesh files of the SES and SAS, respectively. Use the `molecule_name` variable to point at the solute you want to simulate (as named in the Mobley test case folder)."
   ]
  },
  {
   "cell_type": "code",
   "execution_count": null,
   "metadata": {},
   "outputs": [],
   "source": [
    "molecule_name = '1112_tetrachloroethane'"
   ]
  },
  {
   "cell_type": "markdown",
   "metadata": {},
   "source": [
    "First, let's read the `prmtop` and `crd` files to obtain the Lennard-Jones parameters and coordinates. For this, we'll use the [`ParmEd`](https://parmed.github.io/ParmEd/html/index.html) library, available in [`pip`](https://pypi.org/project/ParmEd/) and [`conda`](https://anaconda.org/omnia/parmed)."
   ]
  },
  {
   "cell_type": "code",
   "execution_count": null,
   "metadata": {},
   "outputs": [],
   "source": [
    "import parmed.amber\n",
    "\n",
    "mol_param = parmed.amber.AmberParm(mobley_test_folder + molecule_name + '.prmtop')\n",
    "N_atom = mol_param.ptr('NATOM')\n",
    "atom_type = mol_param.parm_data['ATOM_TYPE_INDEX']\n",
    "atom_radius = numpy.zeros(N_atom)\n",
    "atom_depth = numpy.zeros(N_atom)\n",
    "\n",
    "for i in range(N_atom):\n",
    "    atom_radius[i] = mol_param.LJ_radius[atom_type[i]-1]\n",
    "    atom_depth[i] = mol_param.LJ_depth[atom_type[i]-1]\n",
    "\n",
    "mol_crd = numpy.loadtxt(mobley_test_folder + molecule_name + '.crd', skiprows=2)\n",
    "mol_crd.flatten()\n",
    "atom_pos = numpy.reshape(mol_crd, (N_atom, 3)) "
   ]
  },
  {
   "cell_type": "markdown",
   "metadata": {},
   "source": [
    "Now we can generate the mesh for the dielectric and shell surfaces"
   ]
  },
  {
   "cell_type": "code",
   "execution_count": null,
   "metadata": {},
   "outputs": [],
   "source": [
    "grid_diel = generate_grid(atom_pos, atom_radius, msms_bin)\n",
    "grid_shell = generate_grid(atom_pos, atom_radius, msms_bin, radius_increase = 1.4, p=0.01)"
   ]
  },
  {
   "cell_type": "code",
   "execution_count": null,
   "metadata": {},
   "outputs": [],
   "source": [
    "phi_static = 10.7 #kcal/mol/e\n",
    "phi_static *= 4.184 # kJ/mol/e\n",
    "\n",
    "eps_s = 7.75\n",
    "\n",
    "sigma_diel, elements_diel = solve_matrix(grid_diel, grid_shell, phi_static, eps_s)\n",
    "dGcav = compute_energy_cav(sigma_diel, elements_diel, phi_static)\n",
    "print('dG_cav = %1.5f kcal/mol'%dGcav)"
   ]
  },
  {
   "cell_type": "markdown",
   "metadata": {},
   "source": [
    "### A continuum integral model for $\\Delta G_{disp}$\n",
    "\n",
    "The solute-solvent dispersion interaction can be computed by integrating the Lennard-Jones potential in the solvent\n",
    "\n",
    "\\begin{equation}\n",
    "\\Delta G_{disp} = \\sum_i \\int_{solv}\\rho_w \\left(\\frac{A_i}{|\\mathbf{r}-\\mathbf{r}_i|^{12}} - \\frac{B_i}{|\\mathbf{r}-\\mathbf{r}_i|^6}\\right) d\\mathbf{r}\n",
    "\\end{equation}\n",
    "\n",
    "where the sum is over the solute molecules, $A_i$ and $B_i$ are the Lennard-Jones parameters for atom $i$, and $\\rho_w$ = 0.0336 Angstrom$^{-3}$ is the solvent number density. Using the divergence theorem, we write this equation as\n",
    "\n",
    "\\begin{equation}\n",
    "\\Delta G_{disp} = \\sum_i \\oint_{shell} \\rho_w \\frac{\\partial}{\\partial \\mathbf{n}}\\left( \\frac{A_i}{90|\\mathbf{r} - \\mathbf{r}_i|^{10}} - \\frac{B_i}{12|\\mathbf{r} - \\mathbf{r}_i|^4}\\right) \\text{d}\\mathbf{r}  \n",
    "\\end{equation}\n",
    "\n",
    "To account for the fact that the water number density increases near surfaces, we add an extra  1.4 Angstrom layer beyond the shell surface, and with an augmented density of 1.75$\\rho_w$. Then, the energy can be written as\n",
    "\n",
    "\\begin{equation}\n",
    "\\Delta G_{disp} = \\sum_i \\int_{layer}1.75\\rho_w \\left(\\frac{A_i}{|\\mathbf{r}-\\mathbf{r}_i|^12} - \\frac{B_i}{|\\mathbf{r}-\\mathbf{r}_i|^6}\\right) d\\mathbf{r} + \\int_{solv}\\rho_w \\left(\\frac{A_i}{|\\mathbf{r}-\\mathbf{r}_i|^12} - \\frac{B_i}{|\\mathbf{r}-\\mathbf{r}_i|^6}\\right) d\\mathbf{r}  \n",
    "\\end{equation}\n",
    "\n",
    "where the first term is the integral over the new layer, and the second over the rest of the solvent. We can write the first integral as\n",
    "\n",
    "\\begin{equation}\n",
    "\\int_{layer}1.75\\rho_w \\left(\\frac{A_i}{|\\mathbf{r}-\\mathbf{r}_i|^12} - \\frac{B_i}{|\\mathbf{r}-\\mathbf{r}_i|^6}\\right) d\\mathbf{r} = \\int_{layer+solv}1.75\\rho_w \\left(\\frac{A_i}{|\\mathbf{r}-\\mathbf{r}_i|^12} - \\frac{B_i}{|\\mathbf{r}-\\mathbf{r}_i|^6}\\right) d\\mathbf{r} - \\int_{solv}1.75\\rho_w \\left(\\frac{A_i}{|\\mathbf{r}-\\mathbf{r}_i|^12} - \\frac{B_i}{|\\mathbf{r}-\\mathbf{r}_i|^6}\\right) d\\mathbf{r}\n",
    "\\end{equation}\n",
    "\n",
    "which can be written as surface integrals\n",
    "\n",
    "\\begin{equation}\n",
    "\\int_{layer}1.75\\rho_w \\left(\\frac{A_i}{|\\mathbf{r}-\\mathbf{r}_i|^12} - \\frac{B_i}{|\\mathbf{r}-\\mathbf{r}_i|^6}\\right) d\\mathbf{r} = \\oint_{shell} 1.75\\rho_w \\frac{\\partial}{\\partial \\mathbf{n}}\\left( \\frac{A_i}{90|\\mathbf{r} - \\mathbf{r}_i|^{10}} - \\frac{B_i}{12|\\mathbf{r} - \\mathbf{r}_i|^4}\\right) \\text{d}\\mathbf{r} - \\oint_{shell, out} 1.75\\rho_w \\frac{\\partial}{\\partial \\mathbf{n}}\\left( \\frac{A_i}{90|\\mathbf{r} - \\mathbf{r}_i|^{10}} - \\frac{B_i}{12|\\mathbf{r} - \\mathbf{r}_i|^4}\\right) \\text{d}\\mathbf{r}. \n",
    "\\end{equation}\n",
    "\n",
    "Then, the dispersion energy is\n",
    "\n",
    "\\begin{equation}\n",
    "\\Delta G_{disp} = \\sum_i \\left( \\oint_{shell} 1.75\\rho_w \\frac{\\partial}{\\partial \\mathbf{n}}\\left( \\frac{A_i}{90|\\mathbf{r} - \\mathbf{r}_i|^{10}} - \\frac{B_i}{12|\\mathbf{r} - \\mathbf{r}_i|^4}\\right) \\text{d}\\mathbf{r} -  \\oint_{shell, out} 0.75\\rho_w \\frac{\\partial}{\\partial \\mathbf{n}}\\left( \\frac{A_i}{90|\\mathbf{r} - \\mathbf{r}_i|^{10}} - \\frac{B_i}{12|\\mathbf{r} - \\mathbf{r}_i|^4}\\right) \\text{d}\\mathbf{r} \\right)\n",
    "\\end{equation}\n",
    "\n",
    "and the following function computes the surface integral above"
   ]
  },
  {
   "cell_type": "code",
   "execution_count": null,
   "metadata": {},
   "outputs": [],
   "source": [
    "def disp_integral(atom_pos, atom_radius, atom_depth, grid):\n",
    "\n",
    "    qe = 1.60217662e-19\n",
    "    Na = 6.0221409e23\n",
    "    rho_w = 0.0336# 1/angs3 number density of water at standard conditions\n",
    "    water_radius = 1.7683 # angs\n",
    "    water_depth = 0.1520 # kcal/mol\n",
    "      \n",
    "    N_atom = len(atom_radius)\n",
    "\n",
    "    N_panel = grid.leaf_view.entity_count(0)\n",
    "    vertices = grid.leaf_view.vertices \n",
    "    triangles = grid.leaf_view.elements\n",
    "    elements = list(grid.leaf_view.entity_iterator(0))\n",
    "\n",
    "    area = numpy.zeros(N_panel)\n",
    "    center = numpy.zeros((N_panel,3))\n",
    "    normal = numpy.zeros((N_panel,3))\n",
    "    for i in range(N_panel):\n",
    "        area[i] = elements[i].geometry.volume\n",
    "        center[i,:] = numpy.average(elements[i].geometry.corners[:],axis=1)\n",
    "        v1 = elements[i].geometry.corners[:,1] - elements[i].geometry.corners[:,0]\n",
    "        v2 = elements[i].geometry.corners[:,2] - elements[i].geometry.corners[:,0]\n",
    "        normal[i,:] = numpy.cross(v1,v2)/(2*area[i]) \n",
    "\n",
    "    integral_i = numpy.zeros(N_atom)\n",
    "    for i in range(N_atom):\n",
    "        r_local = center - atom_pos[i,:]\n",
    "        r_norm = numpy.sqrt(numpy.sum(r_local**2, axis=1))\n",
    "        rdn = numpy.sum(r_local*normal, axis=1)\n",
    "        epsilon = numpy.sqrt(water_depth*atom_depth[i])\n",
    "    \n",
    "        A = epsilon*(water_radius + atom_radius[i])**12\n",
    "        B = 2*epsilon*(water_radius + atom_radius[i])**6\n",
    "          \n",
    "        integral_i[i] = numpy.sum((A/(9*r_norm**12) - B/(3*r_norm**6)) * rdn * area)   \n",
    "\n",
    "    integral = rho_w*numpy.sum(integral_i) #kcal/mol\n",
    "    return integral"
   ]
  },
  {
   "cell_type": "markdown",
   "metadata": {},
   "source": [
    "First, we need to generate the mesh for the outer interface, 2.8 Angstroms away from the original solvent-excluded surface, between the new layer and the solvent."
   ]
  },
  {
   "cell_type": "code",
   "execution_count": null,
   "metadata": {},
   "outputs": [],
   "source": [
    "grid_shell_out = generate_grid(atom_pos, atom_radius, msms_bin, radius_increase = 2.8, p=0.01)"
   ]
  },
  {
   "cell_type": "markdown",
   "metadata": {},
   "source": [
    "Next, we call this function to integrate over both surfaces"
   ]
  },
  {
   "cell_type": "code",
   "execution_count": null,
   "metadata": {},
   "outputs": [],
   "source": [
    "integral_shell = disp_integral(atom_pos, atom_radius, atom_depth, grid_shell)\n",
    "integral_shell_out = disp_integral(atom_pos, atom_radius, atom_depth, grid_shell_out)"
   ]
  },
  {
   "cell_type": "markdown",
   "metadata": {},
   "source": [
    "and finally compute the energy considering the increase in density of the outer shell"
   ]
  },
  {
   "cell_type": "code",
   "execution_count": null,
   "metadata": {},
   "outputs": [],
   "source": [
    "rho_increased = 1.75\n",
    "dGdisp = integral_shell*rho_increased - integral_shell_out*(rho_increased-1)\n",
    "\n",
    "print('dG_disp = %1.5f kcal/mol'%dGdisp)"
   ]
  },
  {
   "cell_type": "code",
   "execution_count": null,
   "metadata": {},
   "outputs": [],
   "source": []
  }
 ],
 "metadata": {
  "kernelspec": {
   "display_name": "Python 3",
   "language": "python",
   "name": "python3"
  },
  "language_info": {
   "codemirror_mode": {
    "name": "ipython",
    "version": 3
   },
   "file_extension": ".py",
   "mimetype": "text/x-python",
   "name": "python",
   "nbconvert_exporter": "python",
   "pygments_lexer": "ipython3",
   "version": "3.6.9"
  }
 },
 "nbformat": 4,
 "nbformat_minor": 2
}
